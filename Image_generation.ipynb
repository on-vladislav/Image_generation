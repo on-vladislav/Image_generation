{
  "nbformat": 4,
  "nbformat_minor": 0,
  "metadata": {
    "colab": {
      "provenance": [],
      "gpuType": "T4",
      "authorship_tag": "ABX9TyO7iyGe6dWq7ufd7H8KsjEz",
      "include_colab_link": true
    },
    "kernelspec": {
      "name": "python3",
      "display_name": "Python 3"
    },
    "language_info": {
      "name": "python"
    },
    "accelerator": "GPU"
  },
  "cells": [
    {
      "cell_type": "markdown",
      "metadata": {
        "id": "view-in-github",
        "colab_type": "text"
      },
      "source": [
        "<a href=\"https://colab.research.google.com/github/on-vladislav/Image_generation/blob/main/Image_generation.ipynb\" target=\"_parent\"><img src=\"https://colab.research.google.com/assets/colab-badge.svg\" alt=\"Open In Colab\"/></a>"
      ]
    },
    {
      "cell_type": "markdown",
      "source": [
        "# Библиотеки"
      ],
      "metadata": {
        "id": "0RhHpVCmmQXH"
      }
    },
    {
      "cell_type": "code",
      "execution_count": null,
      "metadata": {
        "id": "hhPEkXobk9Io"
      },
      "outputs": [],
      "source": [
        "!pip -q install git+https://github.com/huggingface/diffusers transformers accelerate"
      ]
    },
    {
      "cell_type": "code",
      "source": [
        "#импорт библиотек\n",
        "from diffusers import StableDiffusionXLPipeline\n",
        "from diffusers.utils import make_image_grid\n",
        "import torch"
      ],
      "metadata": {
        "id": "PpdC2Nqxm769"
      },
      "execution_count": null,
      "outputs": []
    },
    {
      "cell_type": "markdown",
      "source": [
        "# Код"
      ],
      "metadata": {
        "id": "3OC46XztmVL8"
      }
    },
    {
      "cell_type": "code",
      "source": [
        "#установка модели\n",
        "pipe = StableDiffusionXLPipeline.from_pretrained(\"segmind/SSD-1B\",    torch_dtype=torch.float16, use_safetensors=True, variant=\"fp16\")\n",
        "pipe.to(\"cuda\", dtype=torch.float16)"
      ],
      "metadata": {
        "id": "vraHNQnZo8RB"
      },
      "execution_count": null,
      "outputs": []
    },
    {
      "cell_type": "code",
      "source": [
        "prompt = \"culinary life hacks realistic photos for social networks.\" # Позитивный промпт\n",
        "neg_prompt = \"don't show the chicken\" # Негативный промпт\n",
        "\n",
        "images = pipe(prompt=prompt, negative_prompt=neg_prompt, width=512, height=512, num_images_per_prompt=4).images\n",
        "make_image_grid(images, rows=2, cols=2)"
      ],
      "metadata": {
        "id": "Y9sO3N5Uo9Qq"
      },
      "execution_count": null,
      "outputs": []
    }
  ]
}